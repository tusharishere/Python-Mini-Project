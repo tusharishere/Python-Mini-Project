{
  "nbformat": 4,
  "nbformat_minor": 0,
  "metadata": {
    "colab": {
      "provenance": []
    },
    "kernelspec": {
      "name": "python3",
      "display_name": "Python 3"
    },
    "language_info": {
      "name": "python"
    }
  },
  "cells": [
    {
      "cell_type": "code",
      "execution_count": null,
      "metadata": {
        "id": "ZMpJLavU7Gd_"
      },
      "outputs": [],
      "source": [
        "Problem Statement:\n",
        "The objective of this project is to implement a bike rental system using the Bikeshop class.\n",
        "The Bikeshop class manages the stock of bikes available for rent. The program allows users to\n",
        "interactively choose from the following options:\n",
        "\n",
        "Display Stocks: Users can view the total number of bikes available in the shop.\n",
        "\n",
        "Rent a Bike: Users can rent bikes by specifying the quantity they want to rent.\n",
        "             The program checks if the requested quantity is valid and updates the stock accordingly.\n",
        "             It also calculates and displays the total price of the rented bikes.\n",
        "\n",
        "Exit: Users can choose to exit the program and end the bike rental process.\n",
        "\n",
        "The main goal of this project is to create a user-friendly bike rental system that provides accurate stock\n",
        "information, facilitates bike rentals, and ensures appropriate validation of user input."
      ]
    }
  ]
}