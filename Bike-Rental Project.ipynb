{
 "cells": [
  {
   "cell_type": "code",
   "execution_count": null,
   "id": "ac41084f-1eae-4b9d-a092-1565991d8ca1",
   "metadata": {},
   "outputs": [],
   "source": [
    "class Bikeshop:\n",
    "    def __init__(self, stocks):\n",
    "        self.stocks = stocks\n",
    "\n",
    "    def display_info(self):\n",
    "        print(\"Total Stocks:\", self.stocks)\n",
    "\n",
    "    def rent_bike(self, quantity):\n",
    "        if quantity <= 0:\n",
    "            print(\"Enter a positive value.\")\n",
    "        elif quantity > self.stocks:\n",
    "            print(\"Enter a value less than or equal to the stocks.\")\n",
    "        else:\n",
    "            self.stocks -= quantity\n",
    "            print(\"Total Price:\", quantity * 100)\n",
    "            print(\"Total Bikes:\", self.stocks)\n",
    "\n",
    "\n",
    "n = 100\n",
    "while True:\n",
    "    obj = Bikeshop(n)\n",
    "    user_choice = int(input('''\n",
    "    1. Display Stocks\n",
    "    2. Rent a Bike\n",
    "    3. Exit\n",
    "    '''))\n",
    "\n",
    "    if user_choice == 1:\n",
    "        obj.display_info()\n",
    "    elif user_choice == 2:\n",
    "        q = int(input(\"Enter the quantity: \"))\n",
    "        obj.rent_bike(q)\n",
    "        n -= q\n",
    "    else:\n",
    "        break\n"
   ]
  },
  {
   "cell_type": "code",
   "execution_count": null,
   "id": "6cafb2d2-a303-46e0-9cd2-ab8a86b15baf",
   "metadata": {},
   "outputs": [],
   "source": []
  },
  {
   "cell_type": "code",
   "execution_count": null,
   "id": "4f89cc61-ac90-4d37-86f6-4f9499fa057d",
   "metadata": {},
   "outputs": [],
   "source": []
  }
 ],
 "metadata": {
  "kernelspec": {
   "display_name": "Python 3 (ipykernel)",
   "language": "python",
   "name": "python3"
  },
  "language_info": {
   "codemirror_mode": {
    "name": "ipython",
    "version": 3
   },
   "file_extension": ".py",
   "mimetype": "text/x-python",
   "name": "python",
   "nbconvert_exporter": "python",
   "pygments_lexer": "ipython3",
   "version": "3.10.6"
  }
 },
 "nbformat": 4,
 "nbformat_minor": 5
}
